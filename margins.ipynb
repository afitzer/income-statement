{
 "cells": [
  {
   "cell_type": "code",
   "execution_count": 1,
   "metadata": {},
   "outputs": [],
   "source": [
    "import pandas as pd\n",
    "import seaborn as sns\n",
    "import matplotlib.pyplot as plt"
   ]
  },
  {
   "cell_type": "code",
   "execution_count": 2,
   "metadata": {},
   "outputs": [],
   "source": [
    "pd.set_option('display.max_rows', None)"
   ]
  },
  {
   "cell_type": "code",
   "execution_count": 3,
   "metadata": {},
   "outputs": [],
   "source": [
    "df = pd.read_csv('clean-earnings-data/Consolidate-PLs-melted.csv')"
   ]
  },
  {
   "cell_type": "code",
   "execution_count": 6,
   "metadata": {},
   "outputs": [],
   "source": [
    "jnj = df.query('Ticker == \"JNJ\"')"
   ]
  },
  {
   "cell_type": "code",
   "execution_count": 9,
   "metadata": {},
   "outputs": [],
   "source": [
    "jnj_plot = jnj.query('`P&L Item` == \"Revenue\" | `P&L Item` == \"Gross Margin\" | `P&L Item` == \"Operating Income\" | `P&L Item` == \"Net Income\"')"
   ]
  },
  {
   "cell_type": "code",
   "execution_count": 10,
   "metadata": {},
   "outputs": [
    {
     "data": {
      "text/html": [
       "<div>\n",
       "<style scoped>\n",
       "    .dataframe tbody tr th:only-of-type {\n",
       "        vertical-align: middle;\n",
       "    }\n",
       "\n",
       "    .dataframe tbody tr th {\n",
       "        vertical-align: top;\n",
       "    }\n",
       "\n",
       "    .dataframe thead th {\n",
       "        text-align: right;\n",
       "    }\n",
       "</style>\n",
       "<table border=\"1\" class=\"dataframe\">\n",
       "  <thead>\n",
       "    <tr style=\"text-align: right;\">\n",
       "      <th></th>\n",
       "      <th>P&amp;L Item</th>\n",
       "      <th>Company</th>\n",
       "      <th>Ticker</th>\n",
       "      <th>Year</th>\n",
       "      <th>Value</th>\n",
       "    </tr>\n",
       "  </thead>\n",
       "  <tbody>\n",
       "    <tr>\n",
       "      <th>0</th>\n",
       "      <td>Revenue</td>\n",
       "      <td>Johnson &amp; Johnson</td>\n",
       "      <td>JNJ</td>\n",
       "      <td>2020</td>\n",
       "      <td>82584.0</td>\n",
       "    </tr>\n",
       "    <tr>\n",
       "      <th>2</th>\n",
       "      <td>Gross Margin</td>\n",
       "      <td>Johnson &amp; Johnson</td>\n",
       "      <td>JNJ</td>\n",
       "      <td>2020</td>\n",
       "      <td>54157.0</td>\n",
       "    </tr>\n",
       "    <tr>\n",
       "      <th>7</th>\n",
       "      <td>Operating Income</td>\n",
       "      <td>Johnson &amp; Johnson</td>\n",
       "      <td>JNJ</td>\n",
       "      <td>2020</td>\n",
       "      <td>19733.0</td>\n",
       "    </tr>\n",
       "    <tr>\n",
       "      <th>16</th>\n",
       "      <td>Net Income</td>\n",
       "      <td>Johnson &amp; Johnson</td>\n",
       "      <td>JNJ</td>\n",
       "      <td>2020</td>\n",
       "      <td>14714.0</td>\n",
       "    </tr>\n",
       "    <tr>\n",
       "      <th>88</th>\n",
       "      <td>Revenue</td>\n",
       "      <td>Johnson &amp; Johnson</td>\n",
       "      <td>JNJ</td>\n",
       "      <td>2021</td>\n",
       "      <td>93775.0</td>\n",
       "    </tr>\n",
       "    <tr>\n",
       "      <th>90</th>\n",
       "      <td>Gross Margin</td>\n",
       "      <td>Johnson &amp; Johnson</td>\n",
       "      <td>JNJ</td>\n",
       "      <td>2021</td>\n",
       "      <td>63920.0</td>\n",
       "    </tr>\n",
       "    <tr>\n",
       "      <th>95</th>\n",
       "      <td>Operating Income</td>\n",
       "      <td>Johnson &amp; Johnson</td>\n",
       "      <td>JNJ</td>\n",
       "      <td>2021</td>\n",
       "      <td>23647.0</td>\n",
       "    </tr>\n",
       "    <tr>\n",
       "      <th>104</th>\n",
       "      <td>Net Income</td>\n",
       "      <td>Johnson &amp; Johnson</td>\n",
       "      <td>JNJ</td>\n",
       "      <td>2021</td>\n",
       "      <td>20878.0</td>\n",
       "    </tr>\n",
       "    <tr>\n",
       "      <th>176</th>\n",
       "      <td>Revenue</td>\n",
       "      <td>Johnson &amp; Johnson</td>\n",
       "      <td>JNJ</td>\n",
       "      <td>2022</td>\n",
       "      <td>94943.0</td>\n",
       "    </tr>\n",
       "    <tr>\n",
       "      <th>178</th>\n",
       "      <td>Gross Margin</td>\n",
       "      <td>Johnson &amp; Johnson</td>\n",
       "      <td>JNJ</td>\n",
       "      <td>2022</td>\n",
       "      <td>63854.0</td>\n",
       "    </tr>\n",
       "    <tr>\n",
       "      <th>183</th>\n",
       "      <td>Operating Income</td>\n",
       "      <td>Johnson &amp; Johnson</td>\n",
       "      <td>JNJ</td>\n",
       "      <td>2022</td>\n",
       "      <td>23703.0</td>\n",
       "    </tr>\n",
       "    <tr>\n",
       "      <th>192</th>\n",
       "      <td>Net Income</td>\n",
       "      <td>Johnson &amp; Johnson</td>\n",
       "      <td>JNJ</td>\n",
       "      <td>2022</td>\n",
       "      <td>17941.0</td>\n",
       "    </tr>\n",
       "  </tbody>\n",
       "</table>\n",
       "</div>"
      ],
      "text/plain": [
       "             P&L Item            Company Ticker  Year    Value\n",
       "0             Revenue  Johnson & Johnson    JNJ  2020  82584.0\n",
       "2        Gross Margin  Johnson & Johnson    JNJ  2020  54157.0\n",
       "7    Operating Income  Johnson & Johnson    JNJ  2020  19733.0\n",
       "16         Net Income  Johnson & Johnson    JNJ  2020  14714.0\n",
       "88            Revenue  Johnson & Johnson    JNJ  2021  93775.0\n",
       "90       Gross Margin  Johnson & Johnson    JNJ  2021  63920.0\n",
       "95   Operating Income  Johnson & Johnson    JNJ  2021  23647.0\n",
       "104        Net Income  Johnson & Johnson    JNJ  2021  20878.0\n",
       "176           Revenue  Johnson & Johnson    JNJ  2022  94943.0\n",
       "178      Gross Margin  Johnson & Johnson    JNJ  2022  63854.0\n",
       "183  Operating Income  Johnson & Johnson    JNJ  2022  23703.0\n",
       "192        Net Income  Johnson & Johnson    JNJ  2022  17941.0"
      ]
     },
     "execution_count": 10,
     "metadata": {},
     "output_type": "execute_result"
    }
   ],
   "source": [
    "jnj_plot"
   ]
  },
  {
   "cell_type": "code",
   "execution_count": 11,
   "metadata": {},
   "outputs": [
    {
     "data": {
      "text/plain": [
       "<Figure size 2000x1000 with 0 Axes>"
      ]
     },
     "execution_count": 11,
     "metadata": {},
     "output_type": "execute_result"
    },
    {
     "data": {
      "image/png": "[encoded data removed]",
      "text/plain": [
       "<Figure size 640x480 with 1 Axes>"
      ]
     },
     "metadata": {},
     "output_type": "display_data"
    },
    {
     "data": {
      "text/plain": [
       "<Figure size 2000x1000 with 0 Axes>"
      ]
     },
     "metadata": {},
     "output_type": "display_data"
    }
   ],
   "source": [
    "# plot a line chart of jnj gross margin, operating margin, and net margin and make fig size 20, 10\n",
    "sns.lineplot(data=jnj_plot, x='Year', y='Value', hue='P&L Item')\n",
    "plt.figure(figsize=(20,10))"
   ]
  },
  {
   "cell_type": "code",
   "execution_count": null,
   "metadata": {},
   "outputs": [],
   "source": [
    "after = df.melt(id_vars=['P&L Item', 'Company', 'Ticker'], var_name='Year', value_name='Value')\n",
    "after = after.sort_values(by=['P&L Item', 'Company', 'Ticker', 'Year'])\n",
    "after['Year'] = after['Year'].astype(int)"
   ]
  },
  {
   "cell_type": "code",
   "execution_count": null,
   "metadata": {},
   "outputs": [],
   "source": [
    "margins = df.query('`P&L Item` == \"Gross Margin %\" | `P&L Item` == \"Operating Margin %\" | `P&L Item` == \"Net Margin %\"').copy()"
   ]
  },
  {
   "cell_type": "code",
   "execution_count": null,
   "metadata": {},
   "outputs": [],
   "source": [
    "sns.set_style('darkgrid')\n",
    "sns.catplot(col='P&L Item', x='Year', y='Value',data=margins.reset_index(), kind='bar', hue='Company', height=5, aspect=1.5, palette='rocket', legend='auto')"
   ]
  },
  {
   "cell_type": "code",
   "execution_count": null,
   "metadata": {},
   "outputs": [],
   "source": [
    "sns.catplot(col='P&L Item', x='Company', y='Value',data=margins.reset_index(), kind='bar', hue='Year', height=5, aspect=1.5, palette='rocket', legend='auto')"
   ]
  },
  {
   "cell_type": "code",
   "execution_count": null,
   "metadata": {},
   "outputs": [],
   "source": [
    "sns.catplot(x='P&L Item', y='Value', data=margins.reset_index(), kind='bar', col='Company', height=6, aspect=0.8, errorbar=None, palette='rocket')\n",
    "plt.xlabel('P&L Item')\n",
    "plt.show()"
   ]
  }
 ],
 "metadata": {
  "kernelspec": {
   "display_name": ".venv",
   "language": "python",
   "name": "python3"
  },
  "language_info": {
   "codemirror_mode": {
    "name": "ipython",
    "version": 3
   },
   "file_extension": ".py",
   "mimetype": "text/x-python",
   "name": "python",
   "nbconvert_exporter": "python",
   "pygments_lexer": "ipython3",
   "version": "3.9.1"
  },
  "orig_nbformat": 4
 },
 "nbformat": 4,
 "nbformat_minor": 2
}
